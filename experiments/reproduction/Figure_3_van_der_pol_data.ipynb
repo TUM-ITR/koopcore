{
 "cells": [
  {
   "cell_type": "code",
   "execution_count": 58,
   "metadata": {},
   "outputs": [
    {
     "name": "stdout",
     "output_type": "stream",
     "text": [
      "\n",
      "The autoreload extension is already loaded. To reload it, use:\n",
      "  %reload_ext autoreload\n"
     ]
    }
   ],
   "source": [
    "%load_ext autoreload\n",
    "%autoreload 2\n",
    "import jax\n",
    "import jax.numpy as jnp\n",
    "import jax.random as jr\n",
    "import kkr\n",
    "import os, datetime\n",
    "import matplotlib.pyplot as plt\n",
    "from sklearn.preprocessing import MinMaxScaler\n",
    "from itertools import product\n",
    "import tqdm\n",
    "import pickle"
   ]
  },
  {
   "cell_type": "code",
   "execution_count": 59,
   "metadata": {},
   "outputs": [],
   "source": [
    "jax.config.update(\"jax_enable_x64\", True)"
   ]
  },
  {
   "cell_type": "code",
   "execution_count": 60,
   "metadata": {},
   "outputs": [],
   "source": [
    "STEPS = 14\n",
    "DT = 1/ STEPS\n",
    "N_TRAIN = 200\n",
    "N_TEST = 50\n",
    "D = 500\n",
    "DEVICES = jax.devices(\"gpu\")\n",
    "LOAD_DATA = 0 \n",
    "N_RUNS = 20\n",
    "\n",
    "PRNGKey = jr.PRNGKey(44)\n",
    "params_base_kernel = {\"name\": \"square-exponential\", \"p_kernel\":{\"scale\":0.1}}\n",
    "save_path = os.path.join(\"results\", \"van_der_pol_risk\"+\"_\" +datetime.datetime.today().strftime('%Y-%m-%d'))"
   ]
  },
  {
   "cell_type": "code",
   "execution_count": 61,
   "metadata": {},
   "outputs": [],
   "source": [
    "def generate_data(N, STEPS, PRNGKey):\n",
    "    dynamical_system = kkr.auxilliary.make_2d_ct_van_der_pol(*kkr.auxilliary.params_van_der_pol_optimal_construction)\n",
    "    initial_conditions = kkr.auxilliary.sample_box(N, PRNGKey=PRNGKey)[0]\n",
    "    return kkr.auxilliary.get_gamma_ivp(STEPS, initial_conditions, dynamical_system, DT)\n",
    "def generate_eigenvalues_dt(D, PRNGKey=jax.random.PRNGKey(0)):\n",
    "    return kkr.auxilliary.convert_2d_to_complex(kkr.auxilliary.sample_disk(D, random=True, PRNGKey=PRNGKey)[0])"
   ]
  },
  {
   "cell_type": "code",
   "execution_count": 62,
   "metadata": {},
   "outputs": [],
   "source": [
    "os.makedirs(save_path, exist_ok=True)\n",
    "\n",
    "if LOAD_DATA:\n",
    "    data_load = kkr.auxilliary.load_trajectory_dict(os.path.join(save_path, \"data.npz\"))\n",
    "    data_train = data_load[\"train\"]\n",
    "    data_test = data_load[\"test\"]\n",
    "else:\n",
    "    PRNGKey, subkey = jr.split(PRNGKey)\n",
    "    data = generate_data(N_TRAIN + N_TEST, STEPS, subkey)\n",
    "    data_train = data.select_N([i for i in range(N_TRAIN)])\n",
    "    data_test = data.select_N([i for i in range(N_TRAIN, N_TRAIN+N_TEST)])\n",
    "    kkr.auxilliary.save_trajectory_dict(os.path.join(save_path, \"data\"), train=data_train, test=data_test)"
   ]
  },
  {
   "cell_type": "code",
   "execution_count": 63,
   "metadata": {},
   "outputs": [],
   "source": [
    "def preprocess_data(data_train, data_test):\n",
    "    preprocessor = {\"x\": MinMaxScaler((-1, 1)), \"y\": MinMaxScaler((-1, 1))}\n",
    "    preprocessor[\"x\"].fit(data_train[\"x\"][:, 0, :])\n",
    "    preprocessor[\"y\"].fit(data_train[\"y\"][:, 0, :])\n",
    "    for d in [data_train, data_test]:\n",
    "        for i in [\"x\", \"y\"]:\n",
    "            d[i].set_X(preprocessor[i].transform(d[i].X.reshape(-1, d[i].d)).reshape(-1, d[i].H, d[i].d) )\n",
    "    return preprocessor, data_train, data_test\n",
    "def postprocess_data(data, preprocessor):\n",
    "    for i in [\"x\", \"y\"]:\n",
    "        data[i].X  = preprocessor[i].transform(data[i].X.reshape(-1, data[i].d)).reshape(-1, data[i].H, data[i].d)\n",
    "    return  data"
   ]
  },
  {
   "cell_type": "code",
   "execution_count": 64,
   "metadata": {},
   "outputs": [],
   "source": [
    "def square_error(x):\n",
    "        return  jnp.sum(jnp.abs(x)**2) \n",
    "def fit_KKR_model(data_train, data_test, eigenvalues, lengthscale, result, run, device):\n",
    "    KKR_model = kkr.model.kkr_estimator.KoopmanKernelDTRegressor(\n",
    "        eigenvalues=eigenvalues,\n",
    "        preprocessor=MinMaxScaler((-1., 1)),\n",
    "        kernel_name=params_base_kernel[\"name\"],\n",
    "        kernel_params={\"scale\": lengthscale},\n",
    "        timestep=DT,\n",
    "        device=device,\n",
    "        regularizer_invariant=1e-6,\n",
    "        regularizer_isometric=1e-6\n",
    "    )\n",
    "    steps = data_train[\"y\"].H-1\n",
    "    KKR_model.fit(data_train[\"x\"], data_train[\"y\"])\n",
    "    prediction_train = KKR_model.predict(data_train[\"x\"][:, 0, :],steps)\n",
    "    prediction_test = KKR_model.predict(data_test[\"x\"][:, 0, :], steps)\n",
    "    residual_train = data_train[\"y\"]-prediction_train\n",
    "    residual_test = data_test[\"y\"]-prediction_test\n",
    "    os.makedirs(os.path.join(save_path, \"models\"), exist_ok=True)\n",
    "    KKR_model.save(os.path.join(save_path, \"models\", f\"KKR_model_{run}.pkl\"))\n",
    "\n",
    "    L2_errors_train = kkr.auxilliary.p_norm((residual_train).X, [0, 1, 2], 2)\n",
    "    L2_errors_test = kkr.auxilliary.p_norm((residual_test).X, [0, 1, 2], 2)\n",
    "    square_error_train = square_error((residual_train).X)\n",
    "    square_error_test = square_error((residual_test).X)\n",
    "    result[str(run)] = {\"lengthscale\": lengthscale, \"L2_errors_train\": L2_errors_train, \"L2_errors_test\": L2_errors_test, \"steps\": steps, \n",
    "                        \"square_error_train\":square_error_train, \"square_error_test\":square_error_test, \"N\":data_train[\"x\"].N, \n",
    "                        \"data_test\": data_test, \"data_train\": data_train, \"prediction_test\": prediction_test, \"prediction_train\": prediction_train}\n",
    "    return result\n",
    "\n",
    "\n",
    "def experiment(rng, N_TRAIN, result, run, device):\n",
    "    rng, subkey = jr.split(rng)\n",
    "    data = generate_data(N_TRAIN + N_TEST, STEPS, subkey)\n",
    "    data_train = data.select_N([i for i in range(N_TRAIN)])\n",
    "    data_test = data.select_N([i for i in range(N_TRAIN, N_TRAIN+N_TEST)])\n",
    "    data_train = {\"x\":data_train, \"y\":data_train}\n",
    "    data_test = {\"x\":data_test, \"y\":data_test}\n",
    "    rng, subkey = jr.split(rng)\n",
    "    eigenvalues = generate_eigenvalues_dt(D, subkey)\n",
    "    preprocessor = preprocess_data(data_train, data_test)\n",
    "    result = fit_KKR_model(data_train, data_test,\n",
    "                           eigenvalues, params_base_kernel[\"p_kernel\"][\"scale\"], result, run, device)\n",
    "    return result, preprocessor"
   ]
  },
  {
   "cell_type": "markdown",
   "metadata": {},
   "source": [
    "## Setup tasks"
   ]
  },
  {
   "cell_type": "code",
   "execution_count": 65,
   "metadata": {},
   "outputs": [
    {
     "name": "stdout",
     "output_type": "stream",
     "text": [
      "[  6   8   9  11  13  16  19  23  27  32  39  47  56  67  81  97 116 139\n",
      " 167 200]\n"
     ]
    }
   ],
   "source": [
    "PRNGKey, subkey = jr.split(PRNGKey)\n",
    "variation_rng = rng_runs = jr.split(subkey, N_RUNS)\n",
    "variation_n_train = jnp.unique(jnp.asarray(jnp.round(jnp.logspace(0.8, jnp.log10(N_TRAIN), 20), 0), dtype=int))\n",
    "print(variation_n_train)\n",
    "tasks =list(product(variation_rng, variation_n_train))"
   ]
  },
  {
   "cell_type": "markdown",
   "metadata": {},
   "source": [
    "## Run experiments"
   ]
  },
  {
   "cell_type": "code",
   "execution_count": 66,
   "metadata": {},
   "outputs": [
    {
     "data": {
      "application/vnd.jupyter.widget-view+json": {
       "model_id": "7c6a077f9829477d8e18047821917725",
       "version_major": 2,
       "version_minor": 0
      },
      "text/plain": [
       "HBox(children=(IntProgress(value=0, max=80), HTML(value='')))"
      ]
     },
     "metadata": {},
     "output_type": "display_data"
    },
    {
     "name": "stdout",
     "output_type": "stream",
     "text": [
      "\n"
     ]
    }
   ],
   "source": [
    "logger = tqdm.tqdm_notebook(total = len(tasks))\n",
    "log = lambda x: logger.update(x)\n",
    "workers = kkr.auxilliary.multithreading.tmap(experiment, DEVICES, log=log)\n",
    "results = workers(tasks)"
   ]
  },
  {
   "cell_type": "markdown",
   "metadata": {},
   "source": [
    "## Postprocess data\n"
   ]
  },
  {
   "cell_type": "code",
   "execution_count": 71,
   "metadata": {},
   "outputs": [
    {
     "data": {
      "image/png": "[encoded data removed]",
      "text/plain": [
       "<Figure size 640x480 with 1 Axes>"
      ]
     },
     "metadata": {},
     "output_type": "display_data"
    }
   ],
   "source": [
    "results_arr = jnp.array([(float(results[k][\"N\"]), float(results[k][\"L2_errors_train\"]**2), float(results[k][\"L2_errors_test\"]**2), abs(float(results[k][\"L2_errors_train\"]**2)-float(results[k][\"L2_errors_test\"]**2))) for k in results.keys()])\n",
    "# results_arr = jnp.array([(float(results[k][\"N\"]), float(results[k][\"square_error_train\"]), float(results[k][\"square_error_test\"]), abs(float(results[k][\"square_error_test\"])-float(results[k][\"square_error_train\"]))) for k in results.keys()])\n",
    "\n",
    "results_arr = results_arr[results_arr[:, 0].argsort()]\n",
    "results_arr_means = jnp.stack([results_arr[ls == results_arr[:, 0]].mean(axis=0) for ls in variation_n_train])\n",
    "results_arr_max = jnp.stack([results_arr[ls == results_arr[:, 0]].max(axis=0) for ls in variation_n_train])\n",
    "results_arr_min = jnp.stack([results_arr[ls == results_arr[:, 0]].min(axis=0) for ls in variation_n_train])\n",
    "with open(os.path.join(save_path, \"simulation_results.pkl\"), \"wb\") as f:\n",
    "    pickle.dump(results, f)\n",
    "plt.plot(results_arr_means[:, 0], results_arr_means[:, 3],\n",
    "         \"blue\", label=\"gap\")\n",
    "plt.fill_between(results_arr_min[:, 0], results_arr_min[:, 3],\n",
    "                 results_arr_max[:, 3], color=\"blue\", alpha=0.1)\n",
    "plt.xlabel(\"# Training Data\");plt.ylabel(\"Risk\")\n",
    "plt.title(\"Behavior with Data\")\n",
    "plt.legend();plt.grid();plt.loglog();plt.legend();plt.ylim(1e-2, 1e1);plt.xlim(8, 2e2);"
   ]
  },
  {
   "cell_type": "code",
   "execution_count": null,
   "metadata": {},
   "outputs": [],
   "source": []
  }
 ],
 "metadata": {
  "kernelspec": {
   "display_name": "KKR_env",
   "language": "python",
   "name": "python3"
  },
  "language_info": {
   "codemirror_mode": {
    "name": "ipython",
    "version": 3
   },
   "file_extension": ".py",
   "mimetype": "text/x-python",
   "name": "python",
   "nbconvert_exporter": "python",
   "pygments_lexer": "ipython3",
   "version": "3.9.16"
  }
 },
 "nbformat": 4,
 "nbformat_minor": 2
}
